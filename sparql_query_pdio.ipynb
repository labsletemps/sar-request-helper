{
 "cells": [
  {
   "cell_type": "markdown",
   "metadata": {},
   "source": [
    "Reference: https://wiki.personaldata.io/w/api.php?action=help&modules=expandtemplates"
   ]
  },
  {
   "cell_type": "code",
   "execution_count": 1,
   "metadata": {},
   "outputs": [],
   "source": [
    "import requests\n",
    "import urllib.parse\n",
    "import pandas as pd\n",
    "import json"
   ]
  },
  {
   "cell_type": "code",
   "execution_count": 2,
   "metadata": {},
   "outputs": [],
   "source": [
    "# manual list of “static” properties\n",
    "properties = ['Q988', 'Q1010', 'Q1011', 'Q2581', 'Q1243']"
   ]
  },
  {
   "cell_type": "code",
   "execution_count": 3,
   "metadata": {},
   "outputs": [],
   "source": [
    "# a bit more\n",
    "properties.extend(['Q'+str(i) for i in range(1012, 1014)])"
   ]
  },
  {
   "cell_type": "code",
   "execution_count": 5,
   "metadata": {},
   "outputs": [],
   "source": [
    "# to query wiki.personaldata.io for 1 item\n",
    "\n",
    "def getText(q):\n",
    "    data = {'key': q, 'data': None}\n",
    "    endpoint = 'https://wiki.personaldata.io/w/api.php'\n",
    "\n",
    "    load = {\n",
    "        'action': 'expandtemplates',\n",
    "        'text': '{{MailtoSwissAccess|' + q + '}}',\n",
    "        'format': 'json',\n",
    "        'prop': 'wikitext'\n",
    "    }\n",
    "    try:\n",
    "        response = requests.post(endpoint, data=load)\n",
    "    except requests.exceptions.RequestException as e: # on catch tout\n",
    "        print (e)\n",
    "        return False\n",
    "    if response:\n",
    "        data['data'] = response.json()['expandtemplates']['wikitext']\n",
    "    return data"
   ]
  },
  {
   "cell_type": "code",
   "execution_count": 6,
   "metadata": {},
   "outputs": [],
   "source": [
    "items = []"
   ]
  },
  {
   "cell_type": "code",
   "execution_count": 7,
   "metadata": {},
   "outputs": [],
   "source": [
    "for prop in properties:\n",
    "    items.append(getText(prop))"
   ]
  },
  {
   "cell_type": "code",
   "execution_count": 8,
   "metadata": {},
   "outputs": [],
   "source": [
    "df = pd.DataFrame(items)"
   ]
  },
  {
   "cell_type": "code",
   "execution_count": 9,
   "metadata": {},
   "outputs": [],
   "source": [
    "def getRecipient(text):\n",
    "    mailto, subject = urllib.parse.parse_qsl(text)[0]\n",
    "    return subject.replace(\"Demande d'accès\", \"\").strip()\n",
    "\n",
    "def getMailto(text):\n",
    "    mailto, subject = urllib.parse.parse_qsl(text)[0]\n",
    "    return mailto.split('?')[0]\n",
    "df['Recipient'] = df['data'].apply(getRecipient)"
   ]
  },
  {
   "cell_type": "code",
   "execution_count": 10,
   "metadata": {},
   "outputs": [],
   "source": [
    "df['Mailto'] = df['data'].apply(getMailto)"
   ]
  },
  {
   "cell_type": "code",
   "execution_count": 11,
   "metadata": {},
   "outputs": [],
   "source": [
    "df['Text-unquoted'] = df['data'].apply(lambda x: urllib.parse.unquote(x).split('&body=')[1])"
   ]
  },
  {
   "cell_type": "code",
   "execution_count": 12,
   "metadata": {},
   "outputs": [],
   "source": [
    "df['subject'] = df['Text-unquoted'].apply(lambda x: x.split('\\n\\n')[0])"
   ]
  },
  {
   "cell_type": "code",
   "execution_count": 13,
   "metadata": {},
   "outputs": [],
   "source": [
    "df['message'] = df.apply(lambda row: row['Text-unquoted'].replace(row['subject'], '').strip(), axis=1)"
   ]
  },
  {
   "cell_type": "code",
   "execution_count": 22,
   "metadata": {},
   "outputs": [],
   "source": [
    "df.sort_values('Recipient', inplace=True)"
   ]
  },
  {
   "cell_type": "code",
   "execution_count": 23,
   "metadata": {},
   "outputs": [],
   "source": [
    "jsondata = {'data': df.to_dict(orient='records')}"
   ]
  },
  {
   "cell_type": "code",
   "execution_count": 24,
   "metadata": {},
   "outputs": [],
   "source": [
    "with open('data/companies.json', 'w') as fp:\n",
    "    json.dump(jsondata, fp)"
   ]
  },
  {
   "cell_type": "code",
   "execution_count": null,
   "metadata": {},
   "outputs": [],
   "source": []
  }
 ],
 "metadata": {
  "kernelspec": {
   "display_name": "Python 3",
   "language": "python",
   "name": "python3"
  },
  "language_info": {
   "codemirror_mode": {
    "name": "ipython",
    "version": 3
   },
   "file_extension": ".py",
   "mimetype": "text/x-python",
   "name": "python",
   "nbconvert_exporter": "python",
   "pygments_lexer": "ipython3",
   "version": "3.7.5"
  }
 },
 "nbformat": 4,
 "nbformat_minor": 2
}
